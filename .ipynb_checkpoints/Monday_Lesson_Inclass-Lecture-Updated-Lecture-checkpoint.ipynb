{
 "cells": [
  {
   "cell_type": "markdown",
   "metadata": {},
   "source": [
    "# Week 2 - Monday Lesson (variable assignment, loops, lists)"
   ]
  },
  {
   "cell_type": "markdown",
   "metadata": {},
   "source": [
    "## Tasks Today:\n",
    "\n",
    "1) Int & Float assignments <br>\n",
    " &nbsp;&nbsp;&nbsp;&nbsp; a) Assigning int <br>\n",
    " &nbsp;&nbsp;&nbsp;&nbsp; b) Assigning float <br>\n",
    " &nbsp;&nbsp;&nbsp;&nbsp; c) Performing Calculations on ints and floats <br>\n",
    " &nbsp;&nbsp;&nbsp;&nbsp;&nbsp;&nbsp;&nbsp;&nbsp; - Addition <br>\n",
    " &nbsp;&nbsp;&nbsp;&nbsp;&nbsp;&nbsp;&nbsp;&nbsp; - Subtraction <br>\n",
    " &nbsp;&nbsp;&nbsp;&nbsp;&nbsp;&nbsp;&nbsp;&nbsp; - Multiplication <br>\n",
    " &nbsp;&nbsp;&nbsp;&nbsp;&nbsp;&nbsp;&nbsp;&nbsp; - Division <br>\n",
    " &nbsp;&nbsp;&nbsp;&nbsp;&nbsp;&nbsp;&nbsp;&nbsp; - Floor Division <br>\n",
    " &nbsp;&nbsp;&nbsp;&nbsp;&nbsp;&nbsp;&nbsp;&nbsp; - Modulo <br>\n",
    " &nbsp;&nbsp;&nbsp;&nbsp;&nbsp;&nbsp;&nbsp;&nbsp; - Exponential <br>\n",
    "2) String Input-Output <br>\n",
    " &nbsp;&nbsp;&nbsp;&nbsp; a) String Assignment <br>\n",
    " &nbsp;&nbsp;&nbsp;&nbsp; b) print() <br>\n",
    " &nbsp;&nbsp;&nbsp;&nbsp; c) String Concatenation <br>\n",
    " &nbsp;&nbsp;&nbsp;&nbsp; d) Type Conversion <br>\n",
    " &nbsp;&nbsp;&nbsp;&nbsp; e) input() <br>\n",
    " &nbsp;&nbsp;&nbsp;&nbsp; f) format() <br>\n",
    " &nbsp;&nbsp;&nbsp;&nbsp; g) Old Way (python 2) <br>\n",
    "3) <b>In-Class Exercise #1</b> <br>\n",
    "4) If Statements <br>\n",
    " &nbsp;&nbsp;&nbsp;&nbsp; a) 'is' keyword <br>\n",
    " &nbsp;&nbsp;&nbsp;&nbsp; b) 'in' keyword <br>\n",
    " &nbsp;&nbsp;&nbsp;&nbsp; c) 'not in' keyword <br>\n",
    "5) <b>In-Class Exercise #2</b> <br>\n",
    "6) Elif Statements <br>\n",
    "7) Else Statements <br>\n",
    "8) <b>In-Class Exercise #3</b> <br>\n",
    "9) For Loops <br>\n",
    " &nbsp;&nbsp;&nbsp;&nbsp; a) Using 'in' keyword <br>\n",
    " &nbsp;&nbsp;&nbsp;&nbsp; b) Continue Statement <br>\n",
    " &nbsp;&nbsp;&nbsp;&nbsp; c) Break Statement <br>\n",
    " &nbsp;&nbsp;&nbsp;&nbsp; d) Pass Statement <br>\n",
    " &nbsp;&nbsp;&nbsp;&nbsp; e) Double For Loops <br>\n",
    "10) While Loops <br>\n",
    " &nbsp;&nbsp;&nbsp;&nbsp; a) Looping 'While True' <br>\n",
    " &nbsp;&nbsp;&nbsp;&nbsp; b) While and For Loops Used Together <br>\n",
    "11) Built-In Functions <br>\n",
    " &nbsp;&nbsp;&nbsp;&nbsp; a) range() <br>\n",
    " &nbsp;&nbsp;&nbsp;&nbsp; b) len() <br>\n",
    " &nbsp;&nbsp;&nbsp;&nbsp; c) help() <br>\n",
    " &nbsp;&nbsp;&nbsp;&nbsp; d) isinstance() <br>\n",
    " &nbsp;&nbsp;&nbsp;&nbsp; e) abs() <br>\n",
    "12) Try and Except <br>\n",
    "13) Lists <br>\n",
    " &nbsp;&nbsp;&nbsp;&nbsp; a) Declaring Lists <br>\n",
    " &nbsp;&nbsp;&nbsp;&nbsp; b) Indexing a List <br>\n",
    " &nbsp;&nbsp;&nbsp;&nbsp; c) .append() <br>\n",
    " &nbsp;&nbsp;&nbsp;&nbsp; d) .insert() <br>\n",
    " &nbsp;&nbsp;&nbsp;&nbsp; e) .pop() <br>\n",
    " &nbsp;&nbsp;&nbsp;&nbsp; f) .remove() <br>\n",
    " &nbsp;&nbsp;&nbsp;&nbsp; g) del() <br>\n",
    " &nbsp;&nbsp;&nbsp;&nbsp; h) Concatenating Two Lists <br>\n",
    " &nbsp;&nbsp;&nbsp;&nbsp; i) Lists Within Lists <br>\n",
    " &nbsp;&nbsp;&nbsp;&nbsp; j) Looping Through Lists <br>"
   ]
  },
  {
   "cell_type": "markdown",
   "metadata": {},
   "source": [
    "### Int & Float Assignments"
   ]
  },
  {
   "cell_type": "markdown",
   "metadata": {},
   "source": [
    "##### Assigning int"
   ]
  },
  {
   "cell_type": "code",
   "execution_count": 5,
   "metadata": {},
   "outputs": [
    {
     "name": "stdout",
     "output_type": "stream",
     "text": [
      "6\n"
     ]
    }
   ],
   "source": [
    "number = 6\n",
    "\n",
    "print(number)"
   ]
  },
  {
   "cell_type": "markdown",
   "metadata": {},
   "source": [
    "##### Assinging float"
   ]
  },
  {
   "cell_type": "code",
   "execution_count": 6,
   "metadata": {},
   "outputs": [
    {
     "name": "stdout",
     "output_type": "stream",
     "text": [
      "2.3\n"
     ]
    }
   ],
   "source": [
    "number_float = 2.3\n",
    "\n",
    "print(number_float)"
   ]
  },
  {
   "cell_type": "markdown",
   "metadata": {},
   "source": [
    "#### Performing Calculations on ints and floats"
   ]
  },
  {
   "cell_type": "markdown",
   "metadata": {},
   "source": [
    "##### Addition"
   ]
  },
  {
   "cell_type": "code",
   "execution_count": 2,
   "metadata": {},
   "outputs": [
    {
     "name": "stdout",
     "output_type": "stream",
     "text": [
      "7.4\n",
      "9.4\n"
     ]
    }
   ],
   "source": [
    "num1 = 2\n",
    "num2 = 5.4\n",
    "result = num1 + num2\n",
    "print(result)\n",
    "\n",
    "# shorthand +=\n",
    "result += 2\n",
    "print (result)"
   ]
  },
  {
   "cell_type": "markdown",
   "metadata": {},
   "source": [
    "##### Subtraction"
   ]
  },
  {
   "cell_type": "code",
   "execution_count": 4,
   "metadata": {},
   "outputs": [
    {
     "name": "stdout",
     "output_type": "stream",
     "text": [
      "3.4000000000000004\n",
      "2.4000000000000004\n"
     ]
    }
   ],
   "source": [
    "result_diff = num2 - num1\n",
    "print(result_diff)\n",
    "\n",
    "# shorthand -=\n",
    "result_diff -= 1\n",
    "print(result_diff)"
   ]
  },
  {
   "cell_type": "markdown",
   "metadata": {},
   "source": [
    "##### Multiplication"
   ]
  },
  {
   "cell_type": "code",
   "execution_count": 6,
   "metadata": {},
   "outputs": [
    {
     "name": "stdout",
     "output_type": "stream",
     "text": [
      "10.8\n",
      "21.6\n"
     ]
    }
   ],
   "source": [
    "result_mul = num1*num2\n",
    "print(result_mul)\n",
    "\n",
    "result_mul *= 2\n",
    "print(result_mul)"
   ]
  },
  {
   "cell_type": "markdown",
   "metadata": {},
   "source": [
    "##### Division"
   ]
  },
  {
   "cell_type": "code",
   "execution_count": 9,
   "metadata": {},
   "outputs": [
    {
     "name": "stdout",
     "output_type": "stream",
     "text": [
      "2.7\n",
      "1.35\n"
     ]
    }
   ],
   "source": [
    "result_div = num2 / num1\n",
    "print(result_div)\n",
    "\n",
    "result_div /=2\n",
    "print(result_div)"
   ]
  },
  {
   "cell_type": "markdown",
   "metadata": {},
   "source": [
    "##### Floor Division"
   ]
  },
  {
   "cell_type": "code",
   "execution_count": 11,
   "metadata": {},
   "outputs": [
    {
     "name": "stdout",
     "output_type": "stream",
     "text": [
      "2.0\n",
      "1.0\n"
     ]
    }
   ],
   "source": [
    "result_floor = num2 // num1\n",
    "print(result_floor)\n",
    "\n",
    "result_floor //= 2\n",
    "print(result_floor)"
   ]
  },
  {
   "cell_type": "markdown",
   "metadata": {},
   "source": [
    "##### Modulo"
   ]
  },
  {
   "cell_type": "code",
   "execution_count": 13,
   "metadata": {},
   "outputs": [
    {
     "name": "stdout",
     "output_type": "stream",
     "text": [
      "1.4000000000000004\n",
      "1.4000000000000004\n"
     ]
    }
   ],
   "source": [
    "result_mod = num2 % num1\n",
    "print(result_mod)\n",
    "\n",
    "result_mod %= 2\n",
    "print(result_mod)"
   ]
  },
  {
   "cell_type": "markdown",
   "metadata": {},
   "source": [
    "##### Exponential"
   ]
  },
  {
   "cell_type": "code",
   "execution_count": 17,
   "metadata": {},
   "outputs": [
    {
     "name": "stdout",
     "output_type": "stream",
     "text": [
      "25\n",
      "625\n"
     ]
    }
   ],
   "source": [
    "square = 5**2\n",
    "print(square)\n",
    "\n",
    "square **=2\n",
    "print(square)"
   ]
  },
  {
   "cell_type": "markdown",
   "metadata": {},
   "source": [
    "### String Input-Output"
   ]
  },
  {
   "cell_type": "markdown",
   "metadata": {},
   "source": [
    "##### String Assignment"
   ]
  },
  {
   "cell_type": "code",
   "execution_count": 2,
   "metadata": {},
   "outputs": [
    {
     "name": "stdout",
     "output_type": "stream",
     "text": [
      "Joel\n"
     ]
    }
   ],
   "source": [
    "name = \"Joel\"\n",
    "print(name)"
   ]
  },
  {
   "cell_type": "markdown",
   "metadata": {},
   "source": [
    "##### print() <br>\n",
    "<p>Don't forget about end=' '</p>"
   ]
  },
  {
   "cell_type": "code",
   "execution_count": 21,
   "metadata": {},
   "outputs": [
    {
     "name": "stdout",
     "output_type": "stream",
     "text": [
      "Full Name:  JoelCarter"
     ]
    }
   ],
   "source": [
    "print(\"Full Name: \",name, end = \"Carter\")"
   ]
  },
  {
   "cell_type": "markdown",
   "metadata": {},
   "source": [
    "##### String Concatenation"
   ]
  },
  {
   "cell_type": "code",
   "execution_count": 23,
   "metadata": {},
   "outputs": [
    {
     "name": "stdout",
     "output_type": "stream",
     "text": [
      "John Smith\n",
      "John SmithJr\n"
     ]
    }
   ],
   "source": [
    "first_name = \"John\"\n",
    "last_name = \"Smith\"\n",
    "full_name = first_name + \" \" + last_name\n",
    "print(full_name)\n",
    "\n",
    "full_name += \"Jr\"\n",
    "print(full_name)"
   ]
  },
  {
   "cell_type": "markdown",
   "metadata": {},
   "source": [
    "##### Type Conversion"
   ]
  },
  {
   "cell_type": "code",
   "execution_count": 28,
   "metadata": {},
   "outputs": [
    {
     "name": "stdout",
     "output_type": "stream",
     "text": [
      "34\n",
      "34\n"
     ]
    }
   ],
   "source": [
    "number = \"32\"\n",
    "\n",
    "change_type_num = int(number)\n",
    "print(change_type_num + 2)\n",
    "print(int(number)+2)\n"
   ]
  },
  {
   "cell_type": "markdown",
   "metadata": {},
   "source": [
    "##### input()"
   ]
  },
  {
   "cell_type": "code",
   "execution_count": 30,
   "metadata": {},
   "outputs": [
    {
     "name": "stdout",
     "output_type": "stream",
     "text": [
      "What is your age: 34\n",
      "35\n"
     ]
    }
   ],
   "source": [
    "age = int(input(\"What is your age: \"))\n",
    "add_age = age + 1\n",
    "print(add_age)"
   ]
  },
  {
   "cell_type": "markdown",
   "metadata": {},
   "source": [
    "##### format()"
   ]
  },
  {
   "cell_type": "code",
   "execution_count": 5,
   "metadata": {},
   "outputs": [
    {
     "name": "stdout",
     "output_type": "stream",
     "text": [
      "What is your age?: 35\n",
      "you are 35 Joel and you are getting wiser\n",
      "35 us a great time in life!!!\n"
     ]
    }
   ],
   "source": [
    "age = input(\"What is your age?: \")\n",
    "result_string = \"you are {} {} and you are getting wiser\".format(age,name)\n",
    "print(result_string)\n",
    "result_again = f\"{age} us a great time in life!!!\"\n",
    "print(result_again)"
   ]
  },
  {
   "cell_type": "markdown",
   "metadata": {},
   "source": [
    "##### Old Way (python 2)"
   ]
  },
  {
   "cell_type": "code",
   "execution_count": null,
   "metadata": {},
   "outputs": [],
   "source": []
  },
  {
   "cell_type": "markdown",
   "metadata": {},
   "source": [
    "# In-Class Exercise 1 <br>\n",
    "<p>Create a format statement that asks for color, year, make, model and prints out the results</p>"
   ]
  },
  {
   "cell_type": "code",
   "execution_count": 10,
   "metadata": {},
   "outputs": [
    {
     "name": "stdout",
     "output_type": "stream",
     "text": [
      "What color is your car?: 2015\n",
      "What year is it?: silver\n",
      "What model is your car?: forester\n",
      "You drive a silver 2015 Forester\n",
      "You drive a 2015 silver forester\n"
     ]
    }
   ],
   "source": [
    "color = input(\"What color is your car?: \")\n",
    "year = input(\"What year is it?: \")\n",
    "model = input(\"What model is your car?: \")\n",
    "\n",
    "print (\"You drive a {} {} {}\".format(year, color.title(), model.title()))\n",
    "print (f\"You drive a {color} {year} {model}\")\n"
   ]
  },
  {
   "cell_type": "markdown",
   "metadata": {},
   "source": [
    "### If Statements"
   ]
  },
  {
   "cell_type": "code",
   "execution_count": 15,
   "metadata": {},
   "outputs": [
    {
     "name": "stdout",
     "output_type": "stream",
     "text": [
      "5 and 10 are Not equal\n",
      "Num2 is greater\n",
      "Num1 is less than\n"
     ]
    }
   ],
   "source": [
    "# Available operators: Greater(>), Less(<),Equal(==)\n",
    "# Greater or Equal(>=), Less or Equal (<=)\n",
    "\n",
    "# Truth Tree:\n",
    "# T && F = F\n",
    "# T && T = T\n",
    "# T || F = T\n",
    "# F || T = T\n",
    "# F || F = F\n",
    "\n",
    "num1 = 5\n",
    "num2 = 10\n",
    "\n",
    "if num1 == num2:\n",
    "    print(\"Equal Values\")\n",
    "else:\n",
    "    print(f\"{num1} and {num2} are Not equal\")\n",
    "    \n",
    "if num2 >= num1:\n",
    "    print (\"Num2 is greater\")\n",
    "elif num1 <= num2:\n",
    "    print(\"Num1 is less than\")"
   ]
  },
  {
   "cell_type": "markdown",
   "metadata": {},
   "source": [
    "##### 'is' keyword"
   ]
  },
  {
   "cell_type": "code",
   "execution_count": 25,
   "metadata": {
    "scrolled": true
   },
   "outputs": [
    {
     "name": "stdout",
     "output_type": "stream",
     "text": [
      "is an int\n"
     ]
    }
   ],
   "source": [
    "#use the is keyword when checking for same/similar object(s), NOT ALWAYS the same value\n",
    "\n",
    "num3 = 55\n",
    "\n",
    "    \n",
    "if type(num3) is int:\n",
    "    print(\"is an int\")\n",
    "else:\n",
    "    print(\"not an int\")"
   ]
  },
  {
   "cell_type": "markdown",
   "metadata": {},
   "source": [
    "##### 'in' keyword"
   ]
  },
  {
   "cell_type": "code",
   "execution_count": 32,
   "metadata": {},
   "outputs": [
    {
     "name": "stdout",
     "output_type": "stream",
     "text": [
      "The character who lost everything...\n"
     ]
    }
   ],
   "source": [
    "char_name = \"Max Payne\"\n",
    "\n",
    "if \"Max\" in char_name:\n",
    "    print(\"The character who lost everything...\")\n",
    "else:\n",
    "    print(\"Never heard of that guy!\")"
   ]
  },
  {
   "cell_type": "markdown",
   "metadata": {},
   "source": [
    "##### 'not in' keyword'"
   ]
  },
  {
   "cell_type": "code",
   "execution_count": 33,
   "metadata": {},
   "outputs": [
    {
     "name": "stdout",
     "output_type": "stream",
     "text": [
      "a is NOT here...\n"
     ]
    }
   ],
   "source": [
    "sega_char = \"Sonic\"\n",
    "\n",
    "if \"a\" not in sega_char:\n",
    "    print(\"a is NOT here...\")"
   ]
  },
  {
   "cell_type": "markdown",
   "metadata": {},
   "source": [
    "# In-Class Exercise 2 <br>\n",
    "<p>Ask user for input, check to see if the letter 'p' is in the input</p>"
   ]
  },
  {
   "cell_type": "code",
   "execution_count": 38,
   "metadata": {},
   "outputs": [
    {
     "name": "stdout",
     "output_type": "stream",
     "text": [
      "Give me a word or phrase: This is a long string with p towards the end\n",
      "We found the P!!!!!!\n"
     ]
    }
   ],
   "source": [
    "p_word = input(\"Give me a word or phrase: \")\n",
    "\n",
    "if \"p\" in p_word.lower():\n",
    "    print(\"We found the P!!!!!!\")\n",
    "else:\n",
    "    print(\"No p in sight\")\n"
   ]
  },
  {
   "cell_type": "markdown",
   "metadata": {},
   "source": [
    "## Using 'and'/'or' with If Statements"
   ]
  },
  {
   "cell_type": "code",
   "execution_count": 40,
   "metadata": {},
   "outputs": [
    {
     "name": "stdout",
     "output_type": "stream",
     "text": [
      "True AND True\n",
      "True or False\n"
     ]
    }
   ],
   "source": [
    "num_4 = 15\n",
    "num_5 = 3\n",
    "num_6 = 10\n",
    "num_7 = 3\n",
    "\n",
    "\n",
    "if num_4/5 == num_5 and num_6 -7 == num_7:\n",
    "    print(\"True AND True\")\n",
    "    \n",
    "\n",
    "if num_4 > num_5 or num_6 == num_7:\n",
    "    print(\"True or False\")"
   ]
  },
  {
   "cell_type": "markdown",
   "metadata": {},
   "source": [
    "### Elif Statements"
   ]
  },
  {
   "cell_type": "code",
   "execution_count": 42,
   "metadata": {},
   "outputs": [
    {
     "name": "stdout",
     "output_type": "stream",
     "text": [
      "the name is max\n"
     ]
    }
   ],
   "source": [
    "first_name = \"Max\"\n",
    "if first_name == \"Smith\":\n",
    "    print(\"The name is Smith\")\n",
    "elif first_name != \"Max\":\n",
    "    print(\"the name is not Max\")\n",
    "else:\n",
    "    print(\"the name is max\")"
   ]
  },
  {
   "cell_type": "markdown",
   "metadata": {},
   "source": [
    "### Else Statements"
   ]
  },
  {
   "cell_type": "code",
   "execution_count": null,
   "metadata": {},
   "outputs": [],
   "source": [
    "# see above"
   ]
  },
  {
   "cell_type": "markdown",
   "metadata": {},
   "source": [
    "### For Loops"
   ]
  },
  {
   "cell_type": "code",
   "execution_count": 46,
   "metadata": {},
   "outputs": [
    {
     "name": "stdout",
     "output_type": "stream",
     "text": [
      "J\n",
      "o\n",
      "e\n",
      "l\n",
      " \n",
      "C\n",
      "a\n",
      "r\n",
      "t\n",
      "e\n",
      "r\n",
      "J\n",
      "o\n",
      "e\n",
      "l\n",
      " \n",
      "C\n",
      "a\n",
      "r\n",
      "t\n",
      "e\n",
      "r\n"
     ]
    }
   ],
   "source": [
    "#for keyword, counter, in keyword, condition\n",
    "\n",
    "#for i in range (10):\n",
    "#    print(i)\n",
    "\n",
    "name = \"Joel Carter\"\n",
    "for char in name:\n",
    "    print (char)\n",
    "    \n",
    "#verbose version\n",
    "\n",
    "for letter in range(len(name)):\n",
    "    print(name[letter])"
   ]
  },
  {
   "cell_type": "markdown",
   "metadata": {},
   "source": [
    "##### Using 'in' keyword"
   ]
  },
  {
   "cell_type": "code",
   "execution_count": null,
   "metadata": {},
   "outputs": [],
   "source": [
    "# see above"
   ]
  },
  {
   "cell_type": "markdown",
   "metadata": {},
   "source": [
    "##### Continue Statement"
   ]
  },
  {
   "cell_type": "code",
   "execution_count": null,
   "metadata": {},
   "outputs": [],
   "source": [
    "# will continue to next iteration"
   ]
  },
  {
   "cell_type": "code",
   "execution_count": 47,
   "metadata": {},
   "outputs": [
    {
     "name": "stdout",
     "output_type": "stream",
     "text": [
      "0\n",
      "1\n",
      "2\n",
      "3\n",
      "4\n",
      "6\n",
      "7\n",
      "8\n",
      "9\n",
      "10\n",
      "11\n",
      "12\n",
      "13\n",
      "14\n",
      "15\n",
      "16\n",
      "17\n",
      "18\n",
      "19\n"
     ]
    }
   ],
   "source": [
    "for i in range(20):\n",
    "    if i == 5:\n",
    "        continue\n",
    "    print(i)"
   ]
  },
  {
   "cell_type": "markdown",
   "metadata": {},
   "source": [
    "##### Break Statement"
   ]
  },
  {
   "cell_type": "code",
   "execution_count": null,
   "metadata": {},
   "outputs": [],
   "source": [
    "# will break out of current loop"
   ]
  },
  {
   "cell_type": "code",
   "execution_count": 48,
   "metadata": {},
   "outputs": [
    {
     "name": "stdout",
     "output_type": "stream",
     "text": [
      "0\n",
      "1\n",
      "2\n",
      "3\n",
      "4\n"
     ]
    }
   ],
   "source": [
    "for i in range(20):\n",
    "    if i == 5:\n",
    "        break\n",
    "    print(i)"
   ]
  },
  {
   "cell_type": "markdown",
   "metadata": {},
   "source": [
    "##### Pass Statement"
   ]
  },
  {
   "cell_type": "code",
   "execution_count": null,
   "metadata": {},
   "outputs": [],
   "source": [
    "# mostly used as a placeholder, and will continue on same iteration"
   ]
  },
  {
   "cell_type": "code",
   "execution_count": null,
   "metadata": {},
   "outputs": [],
   "source": [
    "for i in name:\n",
    "    pass # TODO: Come and finish        "
   ]
  },
  {
   "cell_type": "markdown",
   "metadata": {},
   "source": [
    "##### Double For Loops"
   ]
  },
  {
   "cell_type": "code",
   "execution_count": 61,
   "metadata": {},
   "outputs": [
    {
     "name": "stdout",
     "output_type": "stream",
     "text": [
      "minute =  0 seconds =  0\n",
      "minute =  0 seconds =  1\n",
      "minute =  0 seconds =  2\n",
      "minute =  0 seconds =  3\n",
      "minute =  0 seconds =  4\n",
      "minute =  0 seconds =  5\n",
      "minute =  0 seconds =  6\n",
      "minute =  0 seconds =  7\n",
      "minute =  0 seconds =  8\n",
      "minute =  0 seconds =  9\n",
      "minute =  0 seconds =  10\n",
      "minute =  0 seconds =  11\n",
      "minute =  0 seconds =  12\n",
      "minute =  0 seconds =  13\n",
      "minute =  0 seconds =  14\n",
      "minute =  0 seconds =  15\n",
      "minute =  0 seconds =  16\n",
      "minute =  0 seconds =  17\n",
      "minute =  0 seconds =  18\n",
      "minute =  0 seconds =  19\n",
      "minute =  0 seconds =  20\n",
      "minute =  0 seconds =  21\n",
      "minute =  0 seconds =  22\n",
      "minute =  0 seconds =  23\n",
      "minute =  0 seconds =  24\n",
      "minute =  0 seconds =  25\n",
      "minute =  0 seconds =  26\n",
      "minute =  0 seconds =  27\n",
      "minute =  0 seconds =  28\n",
      "minute =  0 seconds =  29\n",
      "minute =  0 seconds =  30\n",
      "minute =  0 seconds =  31\n",
      "minute =  0 seconds =  32\n",
      "minute =  0 seconds =  33\n",
      "minute =  0 seconds =  34\n",
      "minute =  0 seconds =  35\n",
      "minute =  0 seconds =  36\n",
      "minute =  0 seconds =  37\n",
      "minute =  0 seconds =  38\n",
      "minute =  0 seconds =  39\n",
      "minute =  0 seconds =  40\n",
      "minute =  0 seconds =  41\n",
      "minute =  0 seconds =  42\n",
      "minute =  0 seconds =  43\n",
      "minute =  0 seconds =  44\n",
      "minute =  0 seconds =  45\n",
      "minute =  0 seconds =  46\n",
      "minute =  0 seconds =  47\n",
      "minute =  0 seconds =  48\n",
      "minute =  0 seconds =  49\n",
      "minute =  0 seconds =  50\n",
      "minute =  0 seconds =  51\n",
      "minute =  0 seconds =  52\n",
      "minute =  0 seconds =  53\n",
      "minute =  0 seconds =  54\n",
      "minute =  0 seconds =  55\n",
      "minute =  0 seconds =  56\n",
      "minute =  0 seconds =  57\n",
      "minute =  0 seconds =  58\n",
      "minute =  0 seconds =  59\n",
      "minute =  1 seconds =  0\n",
      "minute =  1 seconds =  1\n",
      "minute =  1 seconds =  2\n",
      "minute =  1 seconds =  3\n",
      "minute =  1 seconds =  4\n",
      "minute =  1 seconds =  5\n",
      "minute =  1 seconds =  6\n",
      "minute =  1 seconds =  7\n",
      "minute =  1 seconds =  8\n",
      "minute =  1 seconds =  9\n",
      "minute =  1 seconds =  10\n",
      "minute =  1 seconds =  11\n",
      "minute =  1 seconds =  12\n",
      "minute =  1 seconds =  13\n",
      "minute =  1 seconds =  14\n",
      "minute =  1 seconds =  15\n",
      "minute =  1 seconds =  16\n",
      "minute =  1 seconds =  17\n",
      "minute =  1 seconds =  18\n",
      "minute =  1 seconds =  19\n",
      "minute =  1 seconds =  20\n",
      "minute =  1 seconds =  21\n",
      "minute =  1 seconds =  22\n",
      "minute =  1 seconds =  23\n",
      "minute =  1 seconds =  24\n",
      "minute =  1 seconds =  25\n",
      "minute =  1 seconds =  26\n",
      "minute =  1 seconds =  27\n",
      "minute =  1 seconds =  28\n",
      "minute =  1 seconds =  29\n",
      "minute =  1 seconds =  30\n",
      "minute =  1 seconds =  31\n",
      "minute =  1 seconds =  32\n",
      "minute =  1 seconds =  33\n",
      "minute =  1 seconds =  34\n",
      "minute =  1 seconds =  35\n",
      "minute =  1 seconds =  36\n",
      "minute =  1 seconds =  37\n",
      "minute =  1 seconds =  38\n",
      "minute =  1 seconds =  39\n",
      "minute =  1 seconds =  40\n",
      "minute =  1 seconds =  41\n",
      "minute =  1 seconds =  42\n",
      "minute =  1 seconds =  43\n",
      "minute =  1 seconds =  44\n",
      "minute =  1 seconds =  45\n",
      "minute =  1 seconds =  46\n",
      "minute =  1 seconds =  47\n",
      "minute =  1 seconds =  48\n",
      "minute =  1 seconds =  49\n",
      "minute =  1 seconds =  50\n",
      "minute =  1 seconds =  51\n",
      "minute =  1 seconds =  52\n",
      "minute =  1 seconds =  53\n",
      "minute =  1 seconds =  54\n",
      "minute =  1 seconds =  55\n",
      "minute =  1 seconds =  56\n",
      "minute =  1 seconds =  57\n",
      "minute =  1 seconds =  58\n",
      "minute =  1 seconds =  59\n"
     ]
    }
   ],
   "source": [
    "for minute in range(2):\n",
    "    for second in range(60):\n",
    "        print(\"minute = \",minute, \"seconds = \",second)"
   ]
  },
  {
   "cell_type": "markdown",
   "metadata": {},
   "source": [
    "### While Loops"
   ]
  },
  {
   "cell_type": "code",
   "execution_count": 63,
   "metadata": {},
   "outputs": [
    {
     "name": "stdout",
     "output_type": "stream",
     "text": [
      "9\n"
     ]
    }
   ],
   "source": [
    "#based on condition, we start or never start the while loop\n",
    "\n",
    "num=0\n",
    "while num <10:\n",
    "    print(num)\n",
    "    num +=1"
   ]
  },
  {
   "cell_type": "markdown",
   "metadata": {},
   "source": [
    "##### Looping 'While True'"
   ]
  },
  {
   "cell_type": "code",
   "execution_count": 67,
   "metadata": {},
   "outputs": [
    {
     "name": "stdout",
     "output_type": "stream",
     "text": [
      "Infinite Loop\n"
     ]
    }
   ],
   "source": [
    "game_over = False\n",
    "\n",
    "while True:\n",
    "    print (\"Infinite Loop\")\n",
    "    if game_over == False:\n",
    "        break"
   ]
  },
  {
   "cell_type": "markdown",
   "metadata": {},
   "source": [
    "##### While & For Loops Used Together"
   ]
  },
  {
   "cell_type": "code",
   "execution_count": 70,
   "metadata": {},
   "outputs": [
    {
     "name": "stdout",
     "output_type": "stream",
     "text": [
      "\n",
      " While Loop Iteration: 0\n",
      "For loop Iteration 0\n",
      "For loop Iteration 1\n",
      "\n",
      " While Loop Iteration: 1\n",
      "For loop Iteration 0\n",
      "For loop Iteration 1\n",
      "\n",
      " While Loop Iteration: 2\n",
      "For loop Iteration 0\n",
      "For loop Iteration 1\n",
      "\n",
      " While Loop Iteration: 3\n",
      "For loop Iteration 0\n",
      "For loop Iteration 1\n",
      "\n",
      " While Loop Iteration: 4\n",
      "For loop Iteration 0\n",
      "For loop Iteration 1\n"
     ]
    }
   ],
   "source": [
    "num = 0\n",
    "while num < 5:\n",
    "    print(\"\\n While Loop Iteration: \"+str(num))\n",
    "    \n",
    "    for i in range(2):\n",
    "        print(\"For loop Iteration\", str(i))\n",
    "        \n",
    "    num+=1"
   ]
  },
  {
   "cell_type": "markdown",
   "metadata": {},
   "source": [
    "### Built-In Functions"
   ]
  },
  {
   "cell_type": "markdown",
   "metadata": {},
   "source": [
    "##### range()"
   ]
  },
  {
   "cell_type": "code",
   "execution_count": 71,
   "metadata": {},
   "outputs": [
    {
     "name": "stdout",
     "output_type": "stream",
     "text": [
      "2\n",
      "4\n",
      "6\n",
      "8\n",
      "10\n",
      "12\n",
      "14\n",
      "16\n",
      "18\n"
     ]
    }
   ],
   "source": [
    "for i in range (2,20,2):\n",
    "    print(i)"
   ]
  },
  {
   "cell_type": "markdown",
   "metadata": {},
   "source": [
    "##### len()"
   ]
  },
  {
   "cell_type": "code",
   "execution_count": 72,
   "metadata": {},
   "outputs": [
    {
     "name": "stdout",
     "output_type": "stream",
     "text": [
      "3\n"
     ]
    }
   ],
   "source": [
    "char_name = \"Max\"\n",
    "\n",
    "length = len(char_name)\n",
    "print(length)"
   ]
  },
  {
   "cell_type": "markdown",
   "metadata": {},
   "source": [
    "##### help()"
   ]
  },
  {
   "cell_type": "code",
   "execution_count": 78,
   "metadata": {},
   "outputs": [
    {
     "name": "stdout",
     "output_type": "stream",
     "text": [
      "Help on built-in function isinstance in module builtins:\n",
      "\n",
      "isinstance(obj, class_or_tuple, /)\n",
      "    Return whether an object is an instance of a class or of a subclass thereof.\n",
      "    \n",
      "    A tuple, as in ``isinstance(x, (A, B, ...))``, may be given as the target to\n",
      "    check against. This is equivalent to ``isinstance(x, A) or isinstance(x, B)\n",
      "    or ...`` etc.\n",
      "\n"
     ]
    }
   ],
   "source": [
    "help(isinstance)"
   ]
  },
  {
   "cell_type": "markdown",
   "metadata": {},
   "source": [
    "##### isinstance()"
   ]
  },
  {
   "cell_type": "code",
   "execution_count": 75,
   "metadata": {},
   "outputs": [
    {
     "name": "stdout",
     "output_type": "stream",
     "text": [
      "Ths number is a float type\n"
     ]
    }
   ],
   "source": [
    "if isinstance(4,int):\n",
    "    print(\"Ths number is a float type\")"
   ]
  },
  {
   "cell_type": "markdown",
   "metadata": {},
   "source": [
    "##### abs()"
   ]
  },
  {
   "cell_type": "code",
   "execution_count": 79,
   "metadata": {},
   "outputs": [
    {
     "name": "stdout",
     "output_type": "stream",
     "text": [
      "5\n"
     ]
    }
   ],
   "source": [
    "print(abs(-5))"
   ]
  },
  {
   "cell_type": "markdown",
   "metadata": {},
   "source": [
    "### Try and Except"
   ]
  },
  {
   "cell_type": "code",
   "execution_count": 84,
   "metadata": {},
   "outputs": [
    {
     "name": "stdout",
     "output_type": "stream",
     "text": [
      "Guess a numberd\n",
      "That doesnt work -----EEROR: Change your input to a real number/interger\n"
     ]
    }
   ],
   "source": [
    "try:\n",
    "    number_test = 0\n",
    "    input_num = int(input(\"Guess a number\"))\n",
    "    if input_num != number_test:\n",
    "        input_num = input_num + number_test\n",
    "        print(\"Your number is: \"+ str(input_num))\n",
    "except:\n",
    "    print(\"That doesnt work -----EEROR: Change your input to a real number/interger\"\n",
    "         )"
   ]
  },
  {
   "cell_type": "markdown",
   "metadata": {},
   "source": [
    "### Lists"
   ]
  },
  {
   "cell_type": "markdown",
   "metadata": {},
   "source": [
    "##### Declaring Lists"
   ]
  },
  {
   "cell_type": "code",
   "execution_count": 100,
   "metadata": {},
   "outputs": [
    {
     "name": "stdout",
     "output_type": "stream",
     "text": [
      "['Max', 'Cindy', 'Bob', 'Nate']\n"
     ]
    }
   ],
   "source": [
    "names = [\"Max\",\"Cindy\",\"Bob\",\"Nate\"]\n",
    "print(names)\n",
    "\n",
    "for name in names[:-0]:\n",
    "    print(name)"
   ]
  },
  {
   "cell_type": "markdown",
   "metadata": {},
   "source": [
    "##### Indexing a List"
   ]
  },
  {
   "cell_type": "code",
   "execution_count": 136,
   "metadata": {},
   "outputs": [
    {
     "name": "stdout",
     "output_type": "stream",
     "text": [
      "Max\n",
      "['Cindy', 'Bob']\n",
      "['Max', 'Cindy', 'Bob']\n",
      "['Bob', 'Gabby', 'Gabby', 'Nate', 'Joel']\n",
      "['Max', 'Bob', 'Gabby', 'Joel']\n",
      "['Max', 'Cindy', 'Bob', 'Gabby', 'Gabby', 'Nate', 'Joel']\n",
      "['Joel', 'Nate', 'Gabby', 'Gabby', 'Bob', 'Cindy', 'Max']\n",
      "['Bob', 'Cindy', 'Max']\n"
     ]
    }
   ],
   "source": [
    "#### single\n",
    "print(names[0])\n",
    "#range\n",
    "print(names[1:3])\n",
    "#until end index\n",
    "print(names[:3])\n",
    "\n",
    "#from index to end\n",
    "print(names[2:])\n",
    "\n",
    "#print starting at 1 going up by 2\n",
    "print(names[0::2])\n",
    "\n",
    "#reverse list\n",
    "print(names)\n",
    "\n",
    "print(names[::-1])\n",
    "\n",
    "#reverse list\n",
    "print(names[2::-1])"
   ]
  },
  {
   "cell_type": "markdown",
   "metadata": {},
   "source": [
    "##### .append()"
   ]
  },
  {
   "cell_type": "code",
   "execution_count": 133,
   "metadata": {},
   "outputs": [
    {
     "name": "stdout",
     "output_type": "stream",
     "text": [
      "['Max', 'Cindy', 'Bob', 'Nate', 'Joel']\n"
     ]
    }
   ],
   "source": [
    "names.append('Joel')\n",
    "print(names)"
   ]
  },
  {
   "cell_type": "markdown",
   "metadata": {},
   "source": [
    "##### .insert()"
   ]
  },
  {
   "cell_type": "code",
   "execution_count": 162,
   "metadata": {},
   "outputs": [
    {
     "name": "stdout",
     "output_type": "stream",
     "text": [
      "['Max', 'Cindy', 'Bob', 'Gabby', 'Gabby', 'Gabby', 'Gabby', 'Gabby', 'Gabby', 'Gabby', 'Gabby', 'Gabby', 'Gabby', 'Gabby', 'Gabby', 'Gabby', 'Gabby', 'Gabby', 'Gabby', 'Gabby', 'Gabby', 'Nate']\n"
     ]
    }
   ],
   "source": [
    "names.insert(3,\"Gabby\")\n",
    "print(names)"
   ]
  },
  {
   "cell_type": "markdown",
   "metadata": {},
   "source": [
    "##### .pop()"
   ]
  },
  {
   "cell_type": "code",
   "execution_count": 145,
   "metadata": {},
   "outputs": [
    {
     "name": "stdout",
     "output_type": "stream",
     "text": [
      "Joel\n"
     ]
    }
   ],
   "source": [
    "my_name = names.pop()\n",
    "\n",
    "print(my_name)"
   ]
  },
  {
   "cell_type": "markdown",
   "metadata": {},
   "source": [
    "\n",
    "##### .remove()"
   ]
  },
  {
   "cell_type": "code",
   "execution_count": 166,
   "metadata": {},
   "outputs": [
    {
     "name": "stdout",
     "output_type": "stream",
     "text": [
      "['Max', 'Cindy', 'Bob', 'Nate']\n"
     ]
    }
   ],
   "source": [
    "while \"Gabby\" in names:\n",
    "    names.remove(\"Gabby\")\n",
    "print(names)"
   ]
  },
  {
   "cell_type": "markdown",
   "metadata": {},
   "source": [
    "##### del()"
   ]
  },
  {
   "cell_type": "code",
   "execution_count": 167,
   "metadata": {},
   "outputs": [
    {
     "name": "stdout",
     "output_type": "stream",
     "text": [
      "['Max', 'Cindy', 'Bob', 'Nate']\n",
      "['Max', 'Cindy', 'Bob']\n"
     ]
    }
   ],
   "source": [
    "print(names)\n",
    "del(names[-1])\n",
    "print (names)"
   ]
  },
  {
   "cell_type": "markdown",
   "metadata": {},
   "source": [
    "##### Concatenating Two Lists"
   ]
  },
  {
   "cell_type": "code",
   "execution_count": 171,
   "metadata": {},
   "outputs": [
    {
     "name": "stdout",
     "output_type": "stream",
     "text": [
      "['Max', 'Cindy', 'Bob']\n",
      "[0, 1, 2, 3, 4, 5]\n",
      "[0, 1, 2, 3, 4, 5, 0, 1, 2, 3, 4, 5]\n"
     ]
    }
   ],
   "source": [
    "names+names\n",
    "print(names)\n",
    "\n",
    "l_2 = [0,1,2]\n",
    "l_3 = [3,4,5]\n",
    "l_4 = l_2+l_3\n",
    "print(l_4)\n",
    "print(l_2+l_3+l_4)"
   ]
  },
  {
   "cell_type": "markdown",
   "metadata": {},
   "source": [
    "##### Lists Within Lists"
   ]
  },
  {
   "cell_type": "code",
   "execution_count": 180,
   "metadata": {},
   "outputs": [
    {
     "name": "stdout",
     "output_type": "stream",
     "text": [
      "['Max', 'Sam', 'Josh', ['Sally', 'Sue', 'Steph']]\n",
      "Sue\n"
     ]
    }
   ],
   "source": [
    "names = [\"Max\",\"Sam\",\"Josh\",['Sally','Sue',\"Steph\"]]\n",
    "print(names)\n",
    "print(names[3][1])"
   ]
  },
  {
   "cell_type": "markdown",
   "metadata": {},
   "source": [
    "##### Looping Through Lists"
   ]
  },
  {
   "cell_type": "code",
   "execution_count": 202,
   "metadata": {},
   "outputs": [
    {
     "name": "stdout",
     "output_type": "stream",
     "text": [
      "Max\n",
      "Sam\n",
      "Josh\n",
      "Sally\n",
      "Sue\n",
      "Steph\n"
     ]
    }
   ],
   "source": [
    "for i in range(len(names)):\n",
    "    if i !=3:\n",
    "        print(names[i])\n",
    "    if i ==3:\n",
    "        for j in range(len(names[i])):\n",
    "            print(names[i][j])\n",
    "  "
   ]
  },
  {
   "cell_type": "markdown",
   "metadata": {},
   "source": [
    "## Exercise #1 <br>\n",
    "<p>Cube Number Test... Print out all cubed numbers up to the total value 1000. Meaning that if the cubed number is over 1000 break the loop.</p>"
   ]
  },
  {
   "cell_type": "code",
   "execution_count": 220,
   "metadata": {},
   "outputs": [
    {
     "name": "stdout",
     "output_type": "stream",
     "text": [
      "1\n",
      "8\n",
      "27\n",
      "64\n",
      "125\n",
      "216\n",
      "343\n",
      "512\n",
      "729\n",
      "1000\n"
     ]
    }
   ],
   "source": [
    "i = 1\n",
    "while i > 0:\n",
    "    cube = i**3\n",
    "    if cube > 1000:\n",
    "        break\n",
    "    i+=1\n",
    "    print(cube)"
   ]
  },
  {
   "cell_type": "markdown",
   "metadata": {},
   "source": [
    "## Exercise #2 <br>\n",
    "<p>Get first prime numbers up to 100</p>"
   ]
  },
  {
   "cell_type": "code",
   "execution_count": 7,
   "metadata": {},
   "outputs": [
    {
     "name": "stdout",
     "output_type": "stream",
     "text": [
      "not prime\n",
      "4\n",
      "5\n",
      "not prime\n",
      "6\n",
      "7\n",
      "not prime\n",
      "8\n",
      "9\n",
      "not prime\n",
      "10\n",
      "11\n",
      "not prime\n",
      "12\n",
      "13\n",
      "not prime\n",
      "14\n",
      "15\n",
      "not prime\n",
      "16\n",
      "17\n",
      "not prime\n",
      "18\n",
      "19\n",
      "not prime\n",
      "20\n",
      "21\n",
      "not prime\n",
      "22\n",
      "23\n",
      "not prime\n",
      "24\n",
      "25\n",
      "not prime\n",
      "26\n",
      "27\n",
      "not prime\n",
      "28\n",
      "29\n",
      "not prime\n",
      "30\n",
      "31\n",
      "not prime\n",
      "32\n",
      "33\n",
      "not prime\n",
      "34\n",
      "35\n",
      "not prime\n",
      "36\n",
      "37\n",
      "not prime\n",
      "38\n",
      "39\n",
      "not prime\n",
      "40\n",
      "41\n",
      "not prime\n",
      "42\n",
      "43\n",
      "not prime\n",
      "44\n",
      "45\n",
      "not prime\n",
      "46\n",
      "47\n",
      "not prime\n",
      "48\n",
      "49\n",
      "not prime\n",
      "50\n",
      "51\n",
      "not prime\n",
      "52\n",
      "53\n",
      "not prime\n",
      "54\n",
      "55\n",
      "not prime\n",
      "56\n",
      "57\n",
      "not prime\n",
      "58\n",
      "59\n",
      "not prime\n",
      "60\n",
      "61\n",
      "not prime\n",
      "62\n",
      "63\n",
      "not prime\n",
      "64\n",
      "65\n",
      "not prime\n",
      "66\n",
      "67\n",
      "not prime\n",
      "68\n",
      "69\n",
      "not prime\n",
      "70\n",
      "71\n",
      "not prime\n",
      "72\n",
      "73\n",
      "not prime\n",
      "74\n",
      "75\n",
      "not prime\n",
      "76\n",
      "77\n",
      "not prime\n",
      "78\n",
      "79\n",
      "not prime\n",
      "80\n",
      "81\n",
      "not prime\n",
      "82\n",
      "83\n",
      "not prime\n",
      "84\n",
      "85\n",
      "not prime\n",
      "86\n",
      "87\n",
      "not prime\n",
      "88\n",
      "89\n",
      "not prime\n",
      "90\n",
      "91\n",
      "not prime\n",
      "92\n",
      "93\n",
      "not prime\n",
      "94\n",
      "95\n",
      "not prime\n",
      "96\n",
      "97\n",
      "not prime\n",
      "98\n",
      "99\n",
      "1\n",
      "2\n",
      "3\n",
      "5\n",
      "7\n",
      "11\n",
      "13\n",
      "17\n",
      "19\n",
      "23\n",
      "29\n",
      "31\n",
      "37\n",
      "41\n",
      "43\n",
      "47\n",
      "53\n",
      "59\n",
      "61\n",
      "67\n",
      "71\n",
      "73\n",
      "79\n",
      "83\n",
      "89\n",
      "97\n"
     ]
    }
   ],
   "source": [
    "# HINT::\n",
    "# An else after an if runs if the if didn’t\n",
    "# An else after a for runs if the for didn’t break\n",
    "\n",
    "s_num = 4\n",
    "b_div = 2\n",
    "while s_num < 100:\n",
    "    if s_num % b_div == 0:\n",
    "        print(\"not prime\")\n",
    "        b_div += 1\n",
    "    else:\n",
    "        print(s_num)\n",
    "        s_num+=1\n",
    "        \n",
    "for num in range(101):\n",
    "    if num > 0:\n",
    "        for j in range(2, num):\n",
    "            if (num % j) == 0:\n",
    "                break\n",
    "        else:\n",
    "            print(num)\n",
    "        \n",
    "    \n"
   ]
  },
  {
   "cell_type": "markdown",
   "metadata": {},
   "source": [
    "# Exercise 3 <br>\n",
    "<p>Take in a users input for their age, if they are younger than 18 print kids, if they're 18 to 65 print adults, else print seniors</p>"
   ]
  },
  {
   "cell_type": "code",
   "execution_count": 226,
   "metadata": {},
   "outputs": [
    {
     "name": "stdout",
     "output_type": "stream",
     "text": [
      "Please tell me your age: 67\n",
      "Seniors\n"
     ]
    }
   ],
   "source": [
    "age = int(input(\"Please tell me your age: \"))\n",
    "if age < 18:\n",
    "    print(\"Kids\")\n",
    "elif age >= 18 and age <= 65:\n",
    "    print(\"Adults\")\n",
    "else:\n",
    "    print(\"Seniors\")\n",
    "    "
   ]
  },
  {
   "cell_type": "code",
   "execution_count": null,
   "metadata": {},
   "outputs": [],
   "source": []
  }
 ],
 "metadata": {
  "kernelspec": {
   "display_name": "Python 3",
   "language": "python",
   "name": "python3"
  },
  "language_info": {
   "codemirror_mode": {
    "name": "ipython",
    "version": 3
   },
   "file_extension": ".py",
   "mimetype": "text/x-python",
   "name": "python",
   "nbconvert_exporter": "python",
   "pygments_lexer": "ipython3",
   "version": "3.8.5"
  }
 },
 "nbformat": 4,
 "nbformat_minor": 2
}
